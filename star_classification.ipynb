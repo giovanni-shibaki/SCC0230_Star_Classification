{
 "cells": [
  {
   "cell_type": "markdown",
   "metadata": {},
   "source": [
    "# SCC0230 - Inteligência Artificial, Trabalho 2\n",
    "\n",
    "### Prof. Dr. Solange ..."
   ]
  },
  {
   "cell_type": "markdown",
   "metadata": {},
   "source": [
    "## Membros\n",
    "\n",
    "- Giovanni Shibaki Camargo - 11796444\n",
    "- Pedro Kenzo Muramatsu Carmo - 11796451\n",
    "- Matheus Giraldi Alvarenga - 12543669\n",
    "- Rafael Sartori Vantin - 12543353\n",
    "- Renato Tadeu Theodoro Junior - 11796750\n",
    "- Vitor da Silveira Paula - 10689651"
   ]
  },
  {
   "cell_type": "markdown",
   "metadata": {},
   "source": [
    "For this project, I would like to explore a specific dataset provided by the Sloan Digital Sky Survey for Astronomy classification.\n",
    "\n",
    "In astronomy, the classification scheme of galaxies, quasars and stars is fundamendamental, as early cataloguing of stars and their distribution in the sky has led to the understanding that they make up our own galaxy and, following the distinction that Andromeda was a separate galaxy to our own, numerous galaxies began to be surveyed as more powerful telescopes were built. This datasat aims to classificate stars, galaxies, and quasars based on their spectral characteristics."
   ]
  },
  {
   "cell_type": "markdown",
   "metadata": {},
   "source": [
    "#### What is a Galaxy, Star and Quasar\n",
    "\n",
    "- **Galaxy**\n",
    "    - A galaxy is a huge collection of gas, dust, and billions of stars and their solar systems, all held together by gravity.\n",
    "\n",
    "- **Star**\n",
    "    - any object that is sufficiently massive that it can ignite the fusion of elements in its core due to the gravitational pressures inside the object itself.\n",
    "\n",
    "- **Quasar**\n",
    "    - Quasar is short for quasi-stellar radio source, because astronomers first discovered quasars in 1963 as objects that looked like stars but emitted radio waves. Now, the term is a catch-all for all feeding, and therefore luminous supermassive black holes, also often called active galactic nuclei. But quasars are a different breed of black hole. They reside in galaxies with plentiful gas supplies, perhaps supplied by a recent galaxy-galaxy collision, and they gorge on the inflowing material. The gas spirals around as it falls in, heating up in the process and emitting radiation across the electromagnetic spectrum."
   ]
  },
  {
   "cell_type": "markdown",
   "metadata": {},
   "source": [
    "## The Sloan Digital Sky Survey\n",
    "\n",
    "The Sloan Digital Sky Survey or SDSS is a major multi-spectral imaging and spectroscopic redshift survey using a dedicated 2.5-m wide-angle optical telescope at Apache Point Observatory in New Mexico, United States. The project began in 2000 and was named after the Alfred P. Sloan Foundation, which contributed significant funding.\n",
    "\n",
    "The dataset used in this project can be found on the [Data Access](https://www.sdss4.org/dr17/data_access/) page of the SDSS."
   ]
  },
  {
   "cell_type": "markdown",
   "metadata": {},
   "source": [
    "![SDSS](https://www.sdss4.org/wp-content/uploads/2014/05/segue.jpg)"
   ]
  },
  {
   "cell_type": "markdown",
   "metadata": {},
   "source": [
    "## Description of the 17 features\n",
    "\n",
    "1. obj_ID = Object Identifier, the unique value that identifies the object in the image catalog used by the CAS\n",
    "2. alpha = Right Ascension angle (at J2000 epoch)\n",
    "3. delta = Declination angle (at J2000 epoch)\n",
    "4. u = Ultraviolet filter in the photometric system\n",
    "5. g = Green filter in the photometric system\n",
    "6. r = Red filter in the photometric system\n",
    "7. i = Near Infrared filter in the photometric system\n",
    "8. z = Infrared filter in the photometric system\n",
    "9. run_ID = Run Number used to identify the specific scan\n",
    "10. rereun_ID = Rerun Number to specify how the image was processed\n",
    "11. cam_col = Camera column to identify the scanline within the run\n",
    "12. field_ID = Field number to identify each field\n",
    "13. spec_obj_ID = Unique ID used for optical spectroscopic objects (this means that 2 different observations with the same spec_obj_ID must share the output class)\n",
    "14. class = object class (galaxy, star or quasar object)\n",
    "15. redshift = redshift value based on the increase in wavelength\n",
    "16. plate = plate ID, identifies each plate in SDSS\n",
    "17. MJD = Modified Julian Date, used to indicate when a given piece of SDSS data was taken\n",
    "18. fiber_ID = fiber ID that identifies the fiber that pointed the light at the focal plane in each observation"
   ]
  },
  {
   "cell_type": "code",
   "execution_count": null,
   "metadata": {},
   "outputs": [],
   "source": []
  },
  {
   "cell_type": "code",
   "execution_count": null,
   "metadata": {},
   "outputs": [],
   "source": []
  }
 ],
 "metadata": {
  "language_info": {
   "name": "python"
  }
 },
 "nbformat": 4,
 "nbformat_minor": 2
}
